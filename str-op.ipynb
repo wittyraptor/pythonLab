{
 "cells": [
  {
   "cell_type": "code",
   "execution_count": 6,
   "metadata": {},
   "outputs": [
    {
     "name": "stdout",
     "output_type": "stream",
     "text": [
      "luther college  bangalore\n",
      "luther college bangalore bangalore bangalore\n",
      "luther collegebangalore\n"
     ]
    }
   ],
   "source": [
    "s=\"luther college\"\n",
    "t=\" bangalore\"\n",
    "print(s+' '+t)\n",
    "print(s+t*3)\n",
    "print(s+t.strip())"
   ]
  },
  {
   "cell_type": "code",
   "execution_count": 11,
   "metadata": {},
   "outputs": [
    {
     "name": "stdout",
     "output_type": "stream",
     "text": [
      "LUTHER COLLEGE\n",
      "luther college\n",
      "Luther college\n",
      "luther college\n"
     ]
    }
   ],
   "source": [
    "#formats\n",
    "print(s.upper())\n",
    "print(s.lower())\n",
    "print(s.capitalize())\n",
    "print(s)   #varible not reassigned"
   ]
  },
  {
   "cell_type": "code",
   "execution_count": 18,
   "metadata": {},
   "outputs": [
    {
     "name": "stdout",
     "output_type": "stream",
     "text": [
      "   hai   hello   world!    !  \n",
      "hai   hello   world!    !\n",
      "hai   hello   world!    !  \n",
      "   hai   hello   world!    !\n"
     ]
    }
   ],
   "source": [
    "#white space\n",
    "r=\"   hai   hello   world!    !  \"\n",
    "print(r)\n",
    "print(r.strip())\n",
    "print(r.lstrip())\n",
    "print(r.rstrip())\n"
   ]
  },
  {
   "cell_type": "code",
   "execution_count": 24,
   "metadata": {},
   "outputs": [
    {
     "name": "stdout",
     "output_type": "stream",
     "text": [
      "   hai   hai   world!    !  \n",
      "   hai   hello   world!    !  \n"
     ]
    }
   ],
   "source": [
    "print(r.replace('hello','hai'))\n",
    "print(r)"
   ]
  },
  {
   "cell_type": "code",
   "execution_count": 30,
   "metadata": {},
   "outputs": [
    {
     "name": "stdout",
     "output_type": "stream",
     "text": [
      "luther international\n"
     ]
    }
   ],
   "source": [
    "s='luther international'\n",
    "t=s.center(20,'a')\n",
    "print(t)"
   ]
  },
  {
   "cell_type": "code",
   "execution_count": 39,
   "metadata": {},
   "outputs": [
    {
     "name": "stdout",
     "output_type": "stream",
     "text": [
      "banana\n",
      "1\n",
      "5\n",
      "1\n"
     ]
    }
   ],
   "source": [
    "s='banana'\n",
    "t=s.ljust(3,'o')\n",
    "print(t)\n",
    "print(s.find('a'))\n",
    "print(s.rfind('a'))\n",
    "print(s.index('a'))"
   ]
  },
  {
   "cell_type": "code",
   "execution_count": 41,
   "metadata": {},
   "outputs": [
    {
     "name": "stdout",
     "output_type": "stream",
     "text": [
      "2.3 2.35 2.3456700\n"
     ]
    }
   ],
   "source": [
    "v=2.34567\n",
    "print('{:.1f} {:.2f} {:.7f}'.format(v,v,v))"
   ]
  },
  {
   "cell_type": "code",
   "execution_count": 48,
   "metadata": {},
   "outputs": [
    {
     "name": "stdout",
     "output_type": "stream",
     "text": [
      "0000practice\n",
      "12\n",
      "8\n"
     ]
    }
   ],
   "source": [
    "s='practice'\n",
    "print(s.zfill(12))\n",
    "print(len(s.zfill(12)))\n",
    "print(len(s))"
   ]
  },
  {
   "cell_type": "code",
   "execution_count": 54,
   "metadata": {},
   "outputs": [
    {
     "name": "stdout",
     "output_type": "stream",
     "text": [
      "luther\n",
      "l$u$t$h$e$r\n",
      "h!a!i\n"
     ]
    }
   ],
   "source": [
    "s=['l','u','t','h','e','r']\n",
    "t=\"\".join(s)\n",
    "t1=\"$\".join(s)\n",
    "print(t)\n",
    "print(t1)\n",
    "print(\"!\".join('hai'))"
   ]
  },
  {
   "cell_type": "code",
   "execution_count": null,
   "metadata": {},
   "outputs": [],
   "source": []
  }
 ],
 "metadata": {
  "kernelspec": {
   "display_name": "Python 3",
   "language": "python",
   "name": "python3"
  },
  "language_info": {
   "codemirror_mode": {
    "name": "ipython",
    "version": 3
   },
   "file_extension": ".py",
   "mimetype": "text/x-python",
   "name": "python",
   "nbconvert_exporter": "python",
   "pygments_lexer": "ipython3",
   "version": "3.8.5"
  }
 },
 "nbformat": 4,
 "nbformat_minor": 4
}
