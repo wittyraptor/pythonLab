{
 "cells": [
  {
   "cell_type": "code",
   "execution_count": 58,
   "metadata": {},
   "outputs": [],
   "source": [
    "class Ope:\n",
    "    def cons(self,l):\n",
    "        self.lst=l\n",
    "        print(l)\n",
    "        \n",
    "    def usr_input(self):\n",
    "        l=[int(i) for i in input().split()]\n",
    "        self.cons(l)\n",
    "        \n",
    "    def __add__(self,other):\n",
    "        result=[]\n",
    "        for i in range(len(self.lst)):\n",
    "            result.append(self.lst[i]+other.lst[i])\n",
    "        return  result\n",
    "    \n",
    "    def  __sub__(self,other):\n",
    "        result=[]\n",
    "        for i in range(len(self.lst)):\n",
    "            result.append(self.lst[i]-other.lst[j])\n",
    "        return result"
   ]
  },
  {
   "cell_type": "code",
   "execution_count": null,
   "metadata": {},
   "outputs": [
    {
     "name": "stdin",
     "output_type": "stream",
     "text": [
      " 1 2 3\n"
     ]
    },
    {
     "name": "stdout",
     "output_type": "stream",
     "text": [
      "<__main__.Ope object at 0x7f30dc0951f0> is [1, 2, 3]\n"
     ]
    }
   ],
   "source": [
    "lst1=Ope()\n",
    "lst2=Ope()\n",
    "lst1.usr_input()\n",
    "lst2.usr_input()\n",
    "\n"
   ]
  },
  {
   "cell_type": "code",
   "execution_count": 48,
   "metadata": {},
   "outputs": [
    {
     "name": "stdin",
     "output_type": "stream",
     "text": [
      " 1 2 3\n"
     ]
    }
   ],
   "source": [
    "lst2=Ope()\n",
    "lst2.usr_input()"
   ]
  },
  {
   "cell_type": "code",
   "execution_count": 49,
   "metadata": {},
   "outputs": [
    {
     "name": "stdout",
     "output_type": "stream",
     "text": [
      "[2, 4, 6]\n"
     ]
    }
   ],
   "source": [
    "print(lst1+lst2)"
   ]
  },
  {
   "cell_type": "code",
   "execution_count": 52,
   "metadata": {},
   "outputs": [
    {
     "name": "stdout",
     "output_type": "stream",
     "text": [
      "3\n",
      "5\n",
      "7\n"
     ]
    }
   ],
   "source": [
    "l=[1,2,3]\n",
    "u=[2,3,4]\n",
    "for i in list(zip(l,u)):\n",
    "    print(i[0]+i[1])\n"
   ]
  },
  {
   "cell_type": "code",
   "execution_count": 1,
   "metadata": {},
   "outputs": [
    {
     "name": "stdout",
     "output_type": "stream",
     "text": [
      "<class 'list'>\n"
     ]
    }
   ],
   "source": [
    "l=[12,2]\n",
    "print(type(l))"
   ]
  },
  {
   "cell_type": "code",
   "execution_count": 3,
   "metadata": {},
   "outputs": [
    {
     "name": "stdout",
     "output_type": "stream",
     "text": [
      "[4, 9, 16, 25]\n"
     ]
    }
   ],
   "source": [
    "l=[2,3,4,5]\n",
    "l1=list(map(lambda x:x**2,l))\n",
    "print(l1)\n"
   ]
  },
  {
   "cell_type": "code",
   "execution_count": 2,
   "metadata": {},
   "outputs": [
    {
     "name": "stdin",
     "output_type": "stream",
     "text": [
      " 1 2 3\n"
     ]
    },
    {
     "name": "stdout",
     "output_type": "stream",
     "text": [
      "[1, 2, 3]\n",
      "<class 'list'>\n"
     ]
    }
   ],
   "source": [
    "l=list(map(int,input().split()))\n",
    "print(l)\n",
    "print(type(l))"
   ]
  },
  {
   "cell_type": "code",
   "execution_count": 11,
   "metadata": {},
   "outputs": [],
   "source": [
    "class Opera:\n",
    "    def cons(self,l):\n",
    "        self.lst=l\n",
    "        print(self.lst)\n",
    "        \n",
    "    def usr_input(self):\n",
    "        l=list(map(int,input().split()))\n",
    "        self.cons(l)\n",
    "        \n",
    "    def __add__(alist,blist):\n",
    "        zipped_list=zip(alist.lst,blist.lst)\n",
    "        result=[]\n",
    "        for i in zipped_list:\n",
    "            result.append(i[0]+i[1])\n",
    "        return result\n",
    "    \n",
    "    def __floordiv__(alist,blist):\n",
    "        zipped_lst=zip(alist.lst,blist.lst)\n",
    "        result=[]\n",
    "        for i in zipped_lst:\n",
    "            result.append(i[0]//i[1])\n",
    "        return result\n",
    "        "
   ]
  },
  {
   "cell_type": "code",
   "execution_count": 12,
   "metadata": {},
   "outputs": [
    {
     "name": "stdin",
     "output_type": "stream",
     "text": [
      " 4 6 8\n"
     ]
    },
    {
     "name": "stdout",
     "output_type": "stream",
     "text": [
      "[4, 6, 8]\n"
     ]
    },
    {
     "name": "stdin",
     "output_type": "stream",
     "text": [
      " 2 3 4\n"
     ]
    },
    {
     "name": "stdout",
     "output_type": "stream",
     "text": [
      "[2, 3, 4]\n"
     ]
    }
   ],
   "source": [
    "lst1=Opera()\n",
    "lst2=Opera()\n",
    "lst1.usr_input()\n",
    "lst2.usr_input()"
   ]
  },
  {
   "cell_type": "code",
   "execution_count": 13,
   "metadata": {},
   "outputs": [
    {
     "name": "stdout",
     "output_type": "stream",
     "text": [
      "[2, 2, 2]\n"
     ]
    }
   ],
   "source": [
    "print(lst1//lst2)"
   ]
  },
  {
   "cell_type": "code",
   "execution_count": null,
   "metadata": {},
   "outputs": [],
   "source": []
  }
 ],
 "metadata": {
  "kernelspec": {
   "display_name": "Python 3",
   "language": "python",
   "name": "python3"
  },
  "language_info": {
   "codemirror_mode": {
    "name": "ipython",
    "version": 3
   },
   "file_extension": ".py",
   "mimetype": "text/x-python",
   "name": "python",
   "nbconvert_exporter": "python",
   "pygments_lexer": "ipython3",
   "version": "3.8.5"
  }
 },
 "nbformat": 4,
 "nbformat_minor": 4
}
