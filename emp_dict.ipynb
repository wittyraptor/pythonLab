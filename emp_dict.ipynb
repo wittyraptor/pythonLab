{
 "cells": [
  {
   "cell_type": "code",
   "execution_count": null,
   "metadata": {},
   "outputs": [
    {
     "name": "stdout",
     "output_type": "stream",
     "text": [
      "--------------------\n",
      "1 -- input\n",
      "2 --  update\n",
      "3 -- emp search\n",
      "4 --  emp details\n"
     ]
    },
    {
     "name": "stdin",
     "output_type": "stream",
     "text": [
      "enter value: 1\n",
      "enter name: kavi\n",
      "enter address: blor\n"
     ]
    }
   ],
   "source": [
    "d={}\n",
    "class Employee:\n",
    "    def emp_cons(self,name,address,PAN,basic,tds,deduct):\n",
    "        self.name=name\n",
    "        self.address=address\n",
    "        self.PAN=PAN\n",
    "        self.basic=basic\n",
    "        self.tds=tds\n",
    "        self.deduct=deduct\n",
    "        self.hra=int(1.05*self.basic)\n",
    "        self.da=int(1.02*self.basic)\n",
    "        \n",
    "    def emp_input(self):\n",
    "        name=input('enter name:')\n",
    "        address=input('enter address:')\n",
    "        PAN=input('enter pan:')\n",
    "        basic=int(input('enter basicpay:'))\n",
    "        tds=int(input('enter tds:'))\n",
    "        deduct=int(input('enter deduct:'))\n",
    "        self.emp_cons(name,address,PAN,basic,tds,deduct)\n",
    "        \n",
    "    def dict_update(self):\n",
    "        d.update({e.name:e.__dict__})\n",
    "        \n",
    "    def emp_search(self,name):\n",
    "        if name in d:\n",
    "            print('employee exists')\n",
    "        else:\n",
    "            print('employee not found')\n",
    "    \n",
    "    def emp_details(self,name):\n",
    "        for i in d[name]:\n",
    "            print(i,':',d[name][i])\n",
    "            \n",
    "while True:\n",
    "    print('--'*10)\n",
    "    print(\"1 -- input\")\n",
    "    print(\"2 --  update\")\n",
    "    print(\"3 -- emp search\")\n",
    "    print(\"4 --  emp details\")\n",
    "    n=int(input('enter value:'))\n",
    "    if n==1:\n",
    "        e=Employee()\n",
    "        e.emp_input()\n",
    "    elif n==2:\n",
    "        e.dict_update()\n",
    "    elif n==3:\n",
    "        e.emp_search('kavi')\n",
    "    elif n==4:\n",
    "        e.emp_details('kavi')\n",
    "    elif  n==5:\n",
    "        break\n",
    "        "
   ]
  },
  {
   "cell_type": "code",
   "execution_count": 4,
   "metadata": {},
   "outputs": [],
   "source": [
    "e.dict_update()"
   ]
  },
  {
   "cell_type": "code",
   "execution_count": 5,
   "metadata": {},
   "outputs": [
    {
     "name": "stdout",
     "output_type": "stream",
     "text": [
      "{'name': 'kavi', 'address': 'banglore', 'PAN': 'gh56', 'basic': 50000, 'tds': 1000, 'deduct': 500, 'hra': 52500.0, 'da': 51000.0}\n"
     ]
    }
   ],
   "source": [
    "print(e.__dict__)"
   ]
  },
  {
   "cell_type": "code",
   "execution_count": 9,
   "metadata": {},
   "outputs": [
    {
     "ename": "TypeError",
     "evalue": "string indices must be integers",
     "output_type": "error",
     "traceback": [
      "\u001b[0;31m---------------------------------------------------------------------------\u001b[0m",
      "\u001b[0;31mTypeError\u001b[0m                                 Traceback (most recent call last)",
      "\u001b[0;32m<ipython-input-9-d582ae9dd885>\u001b[0m in \u001b[0;36m<module>\u001b[0;34m\u001b[0m\n\u001b[0;32m----> 1\u001b[0;31m \u001b[0me\u001b[0m\u001b[0;34m.\u001b[0m\u001b[0memp_details\u001b[0m\u001b[0;34m(\u001b[0m\u001b[0;34m'kavi'\u001b[0m\u001b[0;34m)\u001b[0m\u001b[0;34m\u001b[0m\u001b[0;34m\u001b[0m\u001b[0m\n\u001b[0m",
      "\u001b[0;32m<ipython-input-3-7a549729615f>\u001b[0m in \u001b[0;36memp_details\u001b[0;34m(self, name)\u001b[0m\n\u001b[1;32m     31\u001b[0m     \u001b[0;32mdef\u001b[0m \u001b[0memp_details\u001b[0m\u001b[0;34m(\u001b[0m\u001b[0mself\u001b[0m\u001b[0;34m,\u001b[0m\u001b[0mname\u001b[0m\u001b[0;34m)\u001b[0m\u001b[0;34m:\u001b[0m\u001b[0;34m\u001b[0m\u001b[0;34m\u001b[0m\u001b[0m\n\u001b[1;32m     32\u001b[0m         \u001b[0;32mfor\u001b[0m \u001b[0mi\u001b[0m \u001b[0;32min\u001b[0m \u001b[0md\u001b[0m\u001b[0;34m[\u001b[0m\u001b[0mname\u001b[0m\u001b[0;34m]\u001b[0m\u001b[0;34m:\u001b[0m\u001b[0;34m\u001b[0m\u001b[0;34m\u001b[0m\u001b[0m\n\u001b[0;32m---> 33\u001b[0;31m             \u001b[0mprint\u001b[0m\u001b[0;34m(\u001b[0m\u001b[0mi\u001b[0m\u001b[0;34m,\u001b[0m\u001b[0md\u001b[0m\u001b[0;34m[\u001b[0m\u001b[0mname\u001b[0m\u001b[0;34m[\u001b[0m\u001b[0mi\u001b[0m\u001b[0;34m]\u001b[0m\u001b[0;34m]\u001b[0m\u001b[0;34m)\u001b[0m\u001b[0;34m\u001b[0m\u001b[0;34m\u001b[0m\u001b[0m\n\u001b[0m\u001b[1;32m     34\u001b[0m \u001b[0;34m\u001b[0m\u001b[0m\n\u001b[1;32m     35\u001b[0m \u001b[0me\u001b[0m\u001b[0;34m=\u001b[0m\u001b[0mEmployee\u001b[0m\u001b[0;34m(\u001b[0m\u001b[0;34m)\u001b[0m\u001b[0;34m\u001b[0m\u001b[0;34m\u001b[0m\u001b[0m\n",
      "\u001b[0;31mTypeError\u001b[0m: string indices must be integers"
     ]
    }
   ],
   "source": [
    "e.emp_details('kavi')"
   ]
  },
  {
   "cell_type": "code",
   "execution_count": 12,
   "metadata": {},
   "outputs": [
    {
     "name": "stdout",
     "output_type": "stream",
     "text": [
      "name kavi\n",
      "address banglore\n",
      "PAN gh56\n",
      "basic 50000\n",
      "tds 1000\n",
      "deduct 500\n",
      "hra 52500.0\n",
      "da 51000.0\n"
     ]
    }
   ],
   "source": [
    "d={'kavi':{'name': 'kavi', 'address': 'banglore', 'PAN': 'gh56', 'basic': 50000, 'tds': 1000, 'deduct': 500, 'hra': 52500.0, 'da': 51000.0}}\n",
    "for i in d['kavi']:\n",
    "    print(i,d['kavi'][i])"
   ]
  },
  {
   "cell_type": "code",
   "execution_count": null,
   "metadata": {},
   "outputs": [],
   "source": []
  }
 ],
 "metadata": {
  "kernelspec": {
   "display_name": "Python 3",
   "language": "python",
   "name": "python3"
  },
  "language_info": {
   "codemirror_mode": {
    "name": "ipython",
    "version": 3
   },
   "file_extension": ".py",
   "mimetype": "text/x-python",
   "name": "python",
   "nbconvert_exporter": "python",
   "pygments_lexer": "ipython3",
   "version": "3.8.5"
  }
 },
 "nbformat": 4,
 "nbformat_minor": 4
}
